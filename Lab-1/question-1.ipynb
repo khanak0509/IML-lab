{
 "cells": [
  {
   "cell_type": "code",
   "execution_count": null,
   "id": "f544695e",
   "metadata": {},
   "outputs": [],
   "source": [
    "import numpy as np"
   ]
  },
  {
   "cell_type": "code",
   "execution_count": 15,
   "id": "79de4579",
   "metadata": {},
   "outputs": [],
   "source": [
    "\n",
    "while True:\n",
    "    m = int(input('enter row of matrix'))\n",
    "    n = int(input('enter clm of matrix'))\n",
    "    if m>6 and n>8:\n",
    "        break"
   ]
  },
  {
   "cell_type": "code",
   "execution_count": 3,
   "id": "db2ace9f",
   "metadata": {},
   "outputs": [],
   "source": [
    "A = np.random.normal(loc= 0 , scale = 1 , size = (m,n))"
   ]
  },
  {
   "cell_type": "code",
   "execution_count": null,
   "id": "60570b45",
   "metadata": {},
   "outputs": [
    {
     "data": {
      "text/plain": [
       "array([[-1.00772636,  0.15207814, -1.8479524 ,  0.70186357, -1.6560919 ,\n",
       "        -1.92087477, -0.81070643,  0.01226096, -0.16720336],\n",
       "       [ 0.97103159,  0.49764101, -1.30679174,  0.10138716,  1.04895264,\n",
       "        -2.13085966, -0.59899826, -0.54674227,  0.36793704],\n",
       "       [ 0.8880855 , -0.73264264,  0.94773136,  1.63247299,  1.1085539 ,\n",
       "         0.47911387, -0.25028826, -2.47115957,  0.97012925],\n",
       "       [-0.78042617, -0.10872282,  1.96747929,  1.21592454,  0.41829553,\n",
       "         0.12889162, -1.50184759,  0.8372969 , -1.01775548],\n",
       "       [-0.81881013,  0.69361746,  0.22995288, -0.41326224,  0.30855848,\n",
       "         0.64891999, -2.79386721,  0.41988141,  0.08326178],\n",
       "       [ 1.10685499, -0.89719916, -0.3914159 , -0.52694947, -0.81368669,\n",
       "        -1.73688095,  0.2986397 ,  0.33110632, -0.74734398],\n",
       "       [-2.48744708, -0.58751951,  0.28535292,  0.92014041, -0.52816682,\n",
       "         1.55752605, -0.15941871, -0.53385957, -0.13658005]])"
      ]
     },
     "execution_count": 4,
     "metadata": {},
     "output_type": "execute_result"
    }
   ],
   "source": [
    "print(A)"
   ]
  },
  {
   "cell_type": "code",
   "execution_count": null,
   "id": "8d469b65",
   "metadata": {},
   "outputs": [
    {
     "data": {
      "text/plain": [
       "numpy.ndarray"
      ]
     },
     "execution_count": 5,
     "metadata": {},
     "output_type": "execute_result"
    }
   ],
   "source": [
    "print(type(A))"
   ]
  },
  {
   "cell_type": "code",
   "execution_count": 6,
   "id": "aa901b89",
   "metadata": {},
   "outputs": [
    {
     "data": {
      "text/plain": [
       "(7, 9)"
      ]
     },
     "execution_count": 6,
     "metadata": {},
     "output_type": "execute_result"
    }
   ],
   "source": [
    "A.shape"
   ]
  },
  {
   "cell_type": "code",
   "execution_count": 7,
   "id": "109e2fc7",
   "metadata": {},
   "outputs": [
    {
     "data": {
      "text/plain": [
       "7"
      ]
     },
     "execution_count": 7,
     "metadata": {},
     "output_type": "execute_result"
    }
   ],
   "source": [
    "A.shape[0]"
   ]
  },
  {
   "cell_type": "code",
   "execution_count": null,
   "id": "ec326323",
   "metadata": {},
   "outputs": [],
   "source": [
    "sum = 0 "
   ]
  },
  {
   "cell_type": "code",
   "execution_count": 12,
   "id": "590c17c4",
   "metadata": {},
   "outputs": [],
   "source": [
    "for i in range(A.shape[0]):\n",
    "    for j in range(A.shape[1]):\n",
    "        sum =+ pow(A[i][j],2)\n",
    "\n",
    "sum = pow(sum,0.5)"
   ]
  },
  {
   "cell_type": "code",
   "execution_count": 13,
   "id": "e437a03b",
   "metadata": {},
   "outputs": [
    {
     "data": {
      "text/plain": [
       "0.13658005104353585"
      ]
     },
     "execution_count": 13,
     "metadata": {},
     "output_type": "execute_result"
    }
   ],
   "source": [
    "sum"
   ]
  },
  {
   "cell_type": "code",
   "execution_count": null,
   "id": "621c16b5",
   "metadata": {},
   "outputs": [],
   "source": []
  },
  {
   "cell_type": "markdown",
   "id": "5e45fc06",
   "metadata": {},
   "source": []
  }
 ],
 "metadata": {
  "kernelspec": {
   "display_name": "Python 3",
   "language": "python",
   "name": "python3"
  },
  "language_info": {
   "codemirror_mode": {
    "name": "ipython",
    "version": 3
   },
   "file_extension": ".py",
   "mimetype": "text/x-python",
   "name": "python",
   "nbconvert_exporter": "python",
   "pygments_lexer": "ipython3",
   "version": "3.10.18"
  }
 },
 "nbformat": 4,
 "nbformat_minor": 5
}

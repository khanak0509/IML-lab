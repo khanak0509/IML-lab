{
 "cells": [
  {
   "cell_type": "code",
   "execution_count": null,
   "id": "40d379aa",
   "metadata": {},
   "outputs": [
    {
     "name": "stdout",
     "output_type": "stream",
     "text": [
      "Dataset shape: (150, 4)\n",
      "Number of samples: 150\n",
      "Number of features: 4\n",
      "\n",
      "Covariance Matrix:\n",
      "[[ 0.68569351 -0.03926846  1.27368233  0.5169038 ]\n",
      " [-0.03926846  0.18800403 -0.32171275 -0.11798121]\n",
      " [ 1.27368233 -0.32171275  3.11317942  1.29638747]\n",
      " [ 0.5169038  -0.11798121  1.29638747  0.58241432]]\n"
     ]
    }
   ],
   "source": [
    "import numpy as np\n",
    "\n",
    "data = np.genfromtxt('dataset.txt', delimiter=',', skip_header=1, usecols=(0,1,2,3))\n",
    "print(f\"shape of data: {data.shape}\")\n",
    "\n",
    "cov_mat = np.cov(data.T) \n",
    "print(\"\\ncovariance matrix:\")\n",
    "print(cov_mat)"
   ]
  },
  {
   "cell_type": "markdown",
   "id": "2f02c5eb",
   "metadata": {},
   "source": [
    "## Part (b): Feature Correlations\n",
    "Finding the most and least correlated feature pairs"
   ]
  },
  {
   "cell_type": "code",
   "execution_count": null,
   "id": "4c4dd9f2",
   "metadata": {},
   "outputs": [
    {
     "name": "stdout",
     "output_type": "stream",
     "text": [
      "Correlation matrix shape: (4, 4)\n",
      "No valid correlations found in the data\n",
      "\n",
      "Correlation Matrix:\n",
      "[[ 1.         -0.10936925  0.87175416  0.81795363]\n",
      " [-0.10936925  1.         -0.4205161  -0.35654409]\n",
      " [ 0.87175416 -0.4205161   1.          0.9627571 ]\n",
      " [ 0.81795363 -0.35654409  0.9627571   1.        ]]\n"
     ]
    }
   ],
   "source": [
    "# correlation matrix\n",
    "corr = np.corrcoef(data.T)\n",
    "features = ['f1', 'f2', 'f3', 'f4']\n",
    "\n",
    "if data.shape[1] == len(features):\n",
    "    max_c = float('-inf')\n",
    "    min_c = float('inf')\n",
    "    max_p = (features[0], features[1])\n",
    "    min_p = (features[0], features[1])\n",
    "    \n",
    "    print(\"correlation matrix shape:\", corr.shape)\n",
    "    \n",
    "    # find max and min correlations\n",
    "    for i in range(len(corr)):\n",
    "        for j in range(i+1, len(corr)):  \n",
    "            if i != j:  \n",
    "                c = corr[i,j]\n",
    "                if not np.isnan(c):  \n",
    "                    if abs(c) > abs(max_c):\n",
    "                        max_c = c\n",
    "                        max_p = (features[i], features[j])\n",
    "                    if abs(c) < abs(min_c):\n",
    "                        min_c = c\n",
    "                        min_p = (features[i], features[j])\n",
    "\n",
    "    if max_c != float('-inf'):\n",
    "        print(f\"most correlated: {max_p[0]} and {max_p[1]} (r={max_c:.3f})\")\n",
    "        print(f\"least correlated: {min_p[0]} and {min_p[1]} (r={min_c:.3f})\")\n",
    "    else:\n",
    "        print(\"no valid correlations found\")\n",
    "\n",
    "    print(\"\\ncorrelation matrix:\")\n",
    "    print(corr)"
   ]
  },
  {
   "cell_type": "markdown",
   "id": "75eaa3a3",
   "metadata": {},
   "source": [
    "## Part (c): Sample Statistics\n",
    "Computing sample mean and variance for each feature"
   ]
  },
  {
   "cell_type": "code",
   "execution_count": null,
   "id": "f4861f27",
   "metadata": {},
   "outputs": [
    {
     "name": "stdout",
     "output_type": "stream",
     "text": [
      "Sample Statistics for each feature:\n",
      "\n",
      "Feature 1:\n",
      "Mean: 5.843\n",
      "Variance: 0.681\n",
      "\n",
      "Feature 2:\n",
      "Mean: 3.054\n",
      "Variance: 0.187\n",
      "\n",
      "Feature 3:\n",
      "Mean: 3.759\n",
      "Variance: 3.092\n",
      "\n",
      "Feature 4:\n",
      "Mean: 1.199\n",
      "Variance: 0.579\n"
     ]
    }
   ],
   "source": [
    "# calculate stats\n",
    "means = np.mean(data, axis=0)\n",
    "vars = np.var(data, axis=0)\n",
    "\n",
    "print(\"stats for each feature:\")\n",
    "for i in range(len(features)):\n",
    "    print(f\"\\n{features[i]}:\")\n",
    "    print(f\"mean: {means[i]:.3f}\")\n",
    "    print(f\"variance: {vars[i]:.3f}\")"
   ]
  },
  {
   "cell_type": "markdown",
   "id": "04f8c6bd",
   "metadata": {},
   "source": [
    "## Part (d): Eigenvalue Analysis\n",
    "Computing eigenvalues of the covariance matrix and comparing with feature variances"
   ]
  },
  {
   "cell_type": "code",
   "execution_count": null,
   "id": "23acc84b",
   "metadata": {},
   "outputs": [
    {
     "name": "stdout",
     "output_type": "stream",
     "text": [
      "Eigenvalues of the covariance matrix:\n",
      "λ1: 4.225\n",
      "λ2: 0.242\n",
      "λ3: 0.079\n",
      "λ4: 0.024\n",
      "\n",
      "Comparison of feature variances and eigenvalues:\n",
      "\n",
      "Feature Variances (diagonal of covariance matrix):\n",
      "[0.68569351 0.18800403 3.11317942 0.58241432]\n",
      "\n",
      "Eigenvalues:\n",
      "[4.22484077 0.24224357 0.07852391 0.02368303]\n",
      "\n",
      "Sum of feature variances: 4.569291275167785\n",
      "Sum of eigenvalues: 4.569291275167785\n"
     ]
    }
   ],
   "source": [
    "# get eigenvalues\n",
    "eig_vals = np.linalg.eigvals(cov_mat)\n",
    "eig_vals = np.sort(eig_vals)[::-1]  # sort descending\n",
    "\n",
    "print(\"eigenvalues:\")\n",
    "for i, ev in enumerate(eig_vals):\n",
    "    print(f\"λ{i+1}: {ev:.3f}\")\n",
    "\n",
    "print(\"\\ncomparing variances and eigenvalues:\")\n",
    "print(\"variances:\", np.diag(cov_mat))\n",
    "print(\"eigenvalues:\", eig_vals)\n",
    "\n",
    "print(f\"\\nsum of variances: {np.sum(np.diag(cov_mat)):.3f}\")\n",
    "print(f\"sum of eigenvalues: {np.sum(eig_vals):.3f}\")"
   ]
  },
  {
   "cell_type": "code",
   "execution_count": null,
   "id": "a05c6345",
   "metadata": {},
   "outputs": [],
   "source": []
  },
  {
   "cell_type": "code",
   "execution_count": null,
   "id": "0f8150c8",
   "metadata": {},
   "outputs": [],
   "source": []
  },
  {
   "cell_type": "code",
   "execution_count": null,
   "id": "afeacae2",
   "metadata": {},
   "outputs": [],
   "source": []
  },
  {
   "cell_type": "code",
   "execution_count": null,
   "id": "d99462fc",
   "metadata": {},
   "outputs": [],
   "source": []
  },
  {
   "cell_type": "code",
   "execution_count": null,
   "id": "b5442ce6",
   "metadata": {},
   "outputs": [],
   "source": []
  },
  {
   "cell_type": "code",
   "execution_count": null,
   "id": "643caedb",
   "metadata": {},
   "outputs": [],
   "source": []
  },
  {
   "cell_type": "code",
   "execution_count": null,
   "id": "bca36a5a",
   "metadata": {},
   "outputs": [],
   "source": []
  },
  {
   "cell_type": "code",
   "execution_count": null,
   "id": "2cb8dca2",
   "metadata": {},
   "outputs": [],
   "source": []
  },
  {
   "cell_type": "code",
   "execution_count": null,
   "id": "f3b7b7d0",
   "metadata": {},
   "outputs": [],
   "source": []
  },
  {
   "cell_type": "code",
   "execution_count": null,
   "id": "d6730469",
   "metadata": {},
   "outputs": [],
   "source": []
  }
 ],
 "metadata": {
  "kernelspec": {
   "display_name": "Python 3",
   "language": "python",
   "name": "python3"
  },
  "language_info": {
   "codemirror_mode": {
    "name": "ipython",
    "version": 3
   },
   "file_extension": ".py",
   "mimetype": "text/x-python",
   "name": "python",
   "nbconvert_exporter": "python",
   "pygments_lexer": "ipython3",
   "version": "3.10.18"
  }
 },
 "nbformat": 4,
 "nbformat_minor": 5
}
